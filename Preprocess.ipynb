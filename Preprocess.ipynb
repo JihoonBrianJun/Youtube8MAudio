{
 "cells": [
  {
   "cell_type": "code",
   "execution_count": 1,
   "id": "3db87e61",
   "metadata": {},
   "outputs": [],
   "source": [
    "import numpy as np\n",
    "import pandas as pd\n",
    "import torch\n",
    "from torch.utils.data import DataLoader\n",
    "from torchdata.datapipes.iter import FileLister, FileOpener\n",
    "from tqdm import tqdm"
   ]
  },
  {
   "cell_type": "code",
   "execution_count": 2,
   "id": "8c118cf0",
   "metadata": {},
   "outputs": [],
   "source": [
    "datapipe1 = FileLister(\"./audioset_v1_embeddings/bal_train\", \"*.tfrecord\")\n",
    "datapipe2 = FileOpener(datapipe1,mode=\"b\")\n",
    "tfrecord_loader_dp = datapipe2.load_from_tfrecord()"
   ]
  },
  {
   "cell_type": "code",
   "execution_count": 3,
   "id": "98fa41ea",
   "metadata": {},
   "outputs": [
    {
     "name": "stderr",
     "output_type": "stream",
     "text": [
      "22160it [00:06, 3294.51it/s]\n"
     ]
    }
   ],
   "source": [
    "data_list = []\n",
    "for record in tqdm(iter(tfrecord_loader_dp)):\n",
    "    record_dict = dict()\n",
    "    for tensor_item in ['start_time_seconds','end_time_seconds','labels']:\n",
    "        if tensor_item == 'labels':\n",
    "            record_dict[tensor_item] = record[tensor_item].tolist()\n",
    "        else:\n",
    "            record_dict[tensor_item] = record[tensor_item].item()\n",
    "    record_dict['video_id'] = record['video_id'][0][0]\n",
    "    record_dict['audio_embedding'] = [[embedding[0][i] for i in range(len(embedding[0]))] for embedding in record['audio_embedding']]\n",
    "    data_list.append(record_dict)"
   ]
  },
  {
   "cell_type": "code",
   "execution_count": 12,
   "id": "951c8533",
   "metadata": {},
   "outputs": [],
   "source": [
    "df = pd.DataFrame(data_list).set_index(['video_id'])"
   ]
  },
  {
   "cell_type": "code",
   "execution_count": 13,
   "id": "9fdb1367",
   "metadata": {},
   "outputs": [],
   "source": [
    "df.to_parquet('bal_train.parquet')"
   ]
  },
  {
   "cell_type": "code",
   "execution_count": 208,
   "id": "2f974ce4",
   "metadata": {},
   "outputs": [
    {
     "data": {
      "text/html": [
       "<div>\n",
       "<style scoped>\n",
       "    .dataframe tbody tr th:only-of-type {\n",
       "        vertical-align: middle;\n",
       "    }\n",
       "\n",
       "    .dataframe tbody tr th {\n",
       "        vertical-align: top;\n",
       "    }\n",
       "\n",
       "    .dataframe thead th {\n",
       "        text-align: right;\n",
       "    }\n",
       "</style>\n",
       "<table border=\"1\" class=\"dataframe\">\n",
       "  <thead>\n",
       "    <tr style=\"text-align: right;\">\n",
       "      <th></th>\n",
       "      <th>index</th>\n",
       "      <th>mid</th>\n",
       "      <th>display_name</th>\n",
       "    </tr>\n",
       "  </thead>\n",
       "  <tbody>\n",
       "    <tr>\n",
       "      <th>0</th>\n",
       "      <td>0</td>\n",
       "      <td>/m/09x0r</td>\n",
       "      <td>Speech</td>\n",
       "    </tr>\n",
       "    <tr>\n",
       "      <th>1</th>\n",
       "      <td>1</td>\n",
       "      <td>/m/05zppz</td>\n",
       "      <td>Male speech, man speaking</td>\n",
       "    </tr>\n",
       "    <tr>\n",
       "      <th>2</th>\n",
       "      <td>2</td>\n",
       "      <td>/m/02zsn</td>\n",
       "      <td>Female speech, woman speaking</td>\n",
       "    </tr>\n",
       "    <tr>\n",
       "      <th>3</th>\n",
       "      <td>3</td>\n",
       "      <td>/m/0ytgt</td>\n",
       "      <td>Child speech, kid speaking</td>\n",
       "    </tr>\n",
       "    <tr>\n",
       "      <th>4</th>\n",
       "      <td>4</td>\n",
       "      <td>/m/01h8n0</td>\n",
       "      <td>Conversation</td>\n",
       "    </tr>\n",
       "    <tr>\n",
       "      <th>...</th>\n",
       "      <td>...</td>\n",
       "      <td>...</td>\n",
       "      <td>...</td>\n",
       "    </tr>\n",
       "    <tr>\n",
       "      <th>522</th>\n",
       "      <td>522</td>\n",
       "      <td>/m/07p_0gm</td>\n",
       "      <td>Throbbing</td>\n",
       "    </tr>\n",
       "    <tr>\n",
       "      <th>523</th>\n",
       "      <td>523</td>\n",
       "      <td>/m/01jwx6</td>\n",
       "      <td>Vibration</td>\n",
       "    </tr>\n",
       "    <tr>\n",
       "      <th>524</th>\n",
       "      <td>524</td>\n",
       "      <td>/m/07c52</td>\n",
       "      <td>Television</td>\n",
       "    </tr>\n",
       "    <tr>\n",
       "      <th>525</th>\n",
       "      <td>525</td>\n",
       "      <td>/m/06bz3</td>\n",
       "      <td>Radio</td>\n",
       "    </tr>\n",
       "    <tr>\n",
       "      <th>526</th>\n",
       "      <td>526</td>\n",
       "      <td>/m/07hvw1</td>\n",
       "      <td>Field recording</td>\n",
       "    </tr>\n",
       "  </tbody>\n",
       "</table>\n",
       "<p>527 rows × 3 columns</p>\n",
       "</div>"
      ],
      "text/plain": [
       "     index         mid                   display_name\n",
       "0        0    /m/09x0r                         Speech\n",
       "1        1   /m/05zppz      Male speech, man speaking\n",
       "2        2    /m/02zsn  Female speech, woman speaking\n",
       "3        3    /m/0ytgt     Child speech, kid speaking\n",
       "4        4   /m/01h8n0                   Conversation\n",
       "..     ...         ...                            ...\n",
       "522    522  /m/07p_0gm                      Throbbing\n",
       "523    523   /m/01jwx6                      Vibration\n",
       "524    524    /m/07c52                     Television\n",
       "525    525    /m/06bz3                          Radio\n",
       "526    526   /m/07hvw1                Field recording\n",
       "\n",
       "[527 rows x 3 columns]"
      ]
     },
     "execution_count": 208,
     "metadata": {},
     "output_type": "execute_result"
    }
   ],
   "source": [
    "pd.read_csv('class_labels_indices.csv')"
   ]
  }
 ],
 "metadata": {
  "kernelspec": {
   "display_name": "Python 3 (ipykernel)",
   "language": "python",
   "name": "python3"
  },
  "language_info": {
   "codemirror_mode": {
    "name": "ipython",
    "version": 3
   },
   "file_extension": ".py",
   "mimetype": "text/x-python",
   "name": "python",
   "nbconvert_exporter": "python",
   "pygments_lexer": "ipython3",
   "version": "3.10.9"
  }
 },
 "nbformat": 4,
 "nbformat_minor": 5
}
