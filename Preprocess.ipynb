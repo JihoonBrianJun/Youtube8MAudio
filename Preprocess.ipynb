{
 "cells": [
  {
   "cell_type": "code",
   "execution_count": 1,
   "id": "3db87e61",
   "metadata": {},
   "outputs": [],
   "source": [
    "import numpy as np\n",
    "import pandas as pd\n",
    "import torch\n",
    "from torch.utils.data import DataLoader\n",
    "from torchdata.datapipes.iter import FileLister, FileOpener\n",
    "from tqdm import tqdm"
   ]
  },
  {
   "cell_type": "code",
   "execution_count": 11,
   "id": "d0aed2d3",
   "metadata": {},
   "outputs": [],
   "source": [
    "def tfrecord_to_df(data_name):\n",
    "    datapipe1 = FileLister(f\"./audioset_v1_embeddings/{data_name}\", \"*.tfrecord\")\n",
    "    datapipe2 = FileOpener(datapipe1,mode=\"b\")\n",
    "    tfrecord_loader_dp = datapipe2.load_from_tfrecord()\n",
    "\n",
    "    data_list = []\n",
    "    for record in tqdm(iter(tfrecord_loader_dp)):\n",
    "        record_dict = dict()\n",
    "        for tensor_item in ['start_time_seconds','end_time_seconds','labels']:\n",
    "            if tensor_item == 'labels':\n",
    "                record_dict[tensor_item] = record[tensor_item].tolist()\n",
    "            else:\n",
    "                record_dict[tensor_item] = record[tensor_item].item()\n",
    "        record_dict['video_id'] = record['video_id'][0][0]\n",
    "        record_dict['audio_embedding'] = [[embedding[0][i] for i in range(len(embedding[0]))] for embedding in record['audio_embedding']]\n",
    "        data_list.append(record_dict)\n",
    "\n",
    "    df = pd.DataFrame(data_list).set_index(['video_id'])\n",
    "    df = df[~df.isnull()]\n",
    "    df = df[df['audio_embedding'].apply(lambda x: len(x)) == 10]\n",
    "\n",
    "    embeddings = np.vstack(df['audio_embedding'].apply(lambda x: np.vstack(x))).reshape(-1,10,128)\n",
    "    np.save(f'{data_name}_embedding.npy',embeddings)\n",
    "\n",
    "    def label_converter(x):\n",
    "        output = np.zeros(527,dtype=int)\n",
    "        for label in x:\n",
    "            output[label] = 1\n",
    "        return output\n",
    "\n",
    "    df['label'] = df['labels'].apply(lambda x: label_converter(x))\n",
    "\n",
    "    labels = np.vstack(df['label']).reshape(-1,527)\n",
    "    np.save(f'{data_name}_labels.npy',labels)\n",
    "    \n",
    "    df.to_parquet(f'{data_name}.parquet')"
   ]
  },
  {
   "cell_type": "code",
   "execution_count": 12,
   "id": "bb994896",
   "metadata": {},
   "outputs": [
    {
     "name": "stderr",
     "output_type": "stream",
     "text": [
      "22160it [00:06, 3263.28it/s]\n",
      "20371it [00:06, 3357.72it/s]\n"
     ]
    }
   ],
   "source": [
    "tfrecord_to_df(\"bal_train\")\n",
    "tfrecord_to_df(\"eval\")"
   ]
  }
 ],
 "metadata": {
  "kernelspec": {
   "display_name": "Python 3 (ipykernel)",
   "language": "python",
   "name": "python3"
  },
  "language_info": {
   "codemirror_mode": {
    "name": "ipython",
    "version": 3
   },
   "file_extension": ".py",
   "mimetype": "text/x-python",
   "name": "python",
   "nbconvert_exporter": "python",
   "pygments_lexer": "ipython3",
   "version": "3.10.9"
  }
 },
 "nbformat": 4,
 "nbformat_minor": 5
}
