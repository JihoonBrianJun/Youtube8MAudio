{
 "cells": [
  {
   "cell_type": "code",
   "execution_count": 67,
   "metadata": {},
   "outputs": [],
   "source": [
    "import numpy as np\n",
    "import pandas as pd\n",
    "from tqdm import tqdm\n",
    "\n",
    "import torch\n",
    "import torch.nn as nn\n",
    "import torch.nn.functional as F\n",
    "from torch.utils.data import TensorDataset\n",
    "from torch.utils.data import DataLoader\n",
    "import torch.optim as optim\n",
    "from torch.autograd import Variable"
   ]
  },
  {
   "cell_type": "code",
   "execution_count": 44,
   "metadata": {},
   "outputs": [],
   "source": [
    "device = torch.device(\"mps\")\n",
    "time_size = 10\n",
    "embed_dim = 128\n",
    "embed_max = 256\n",
    "label_num = 527"
   ]
  },
  {
   "cell_type": "code",
   "execution_count": 47,
   "metadata": {},
   "outputs": [],
   "source": [
    "def df_to_tensor(data_name):\n",
    "    df = pd.read_parquet(f'{data_name}.parquet')\n",
    "    df = df[~df.isnull()]\n",
    "    df = df[df['audio_embedding'].apply(lambda x: len(x)) == time_size]\n",
    "    print(f\"{data_name}_df shape: \",df.shape)\n",
    "\n",
    "    embeddings = np.vstack(df['audio_embedding'].apply(lambda x: np.vstack(x))).reshape(-1,time_size,embed_dim)\n",
    "    embedding_tensor = torch.Tensor(embeddings)\n",
    "    print(f\"{data_name}_embedding shape: \", embedding_tensor.size())\n",
    "\n",
    "    def label_converter(x):\n",
    "        output = np.zeros(527,dtype=int)\n",
    "        for label in x:\n",
    "            output[label] = 1\n",
    "        return output\n",
    "\n",
    "    df['label'] = df['labels'].apply(lambda x: label_converter(x))\n",
    "\n",
    "    labels = np.vstack(df['label']).reshape(-1,label_num)\n",
    "    label_tensor = torch.Tensor(labels)\n",
    "    print(f\"{data_name}_label shape: \",label_tensor.size())\n",
    "    \n",
    "    return embedding_tensor/embed_max, label_tensor"
   ]
  },
  {
   "cell_type": "code",
   "execution_count": 48,
   "metadata": {},
   "outputs": [
    {
     "name": "stdout",
     "output_type": "stream",
     "text": [
      "bal_train_df shape:  (21782, 5)\n",
      "bal_train_embedding shape:  torch.Size([21782, 10, 128])\n",
      "bal_train_label shape:  torch.Size([21782, 527])\n",
      "eval_df shape:  (19976, 5)\n",
      "eval_embedding shape:  torch.Size([19976, 10, 128])\n",
      "eval_label shape:  torch.Size([19976, 527])\n"
     ]
    }
   ],
   "source": [
    "train_embedding, train_label = df_to_tensor('bal_train')\n",
    "test_embedding, test_label = df_to_tensor('eval')"
   ]
  },
  {
   "cell_type": "code",
   "execution_count": 49,
   "metadata": {},
   "outputs": [],
   "source": [
    "train_set = TensorDataset(train_embedding, train_label)\n",
    "test_set = TensorDataset(test_embedding, test_label)"
   ]
  },
  {
   "cell_type": "code",
   "execution_count": 50,
   "metadata": {},
   "outputs": [],
   "source": [
    "bs = 16\n",
    "train_loader = torch.utils.data.DataLoader(dataset=train_set, batch_size=bs, shuffle=True)\n",
    "test_loader = torch.utils.data.DataLoader(dataset=train_set, batch_size=1, shuffle=False)"
   ]
  },
  {
   "cell_type": "code",
   "execution_count": 117,
   "metadata": {},
   "outputs": [],
   "source": [
    "class YoutubeAudioClassifier(nn.Module):\n",
    "    def __init__(self, time_size, embed_dim, fc_dim, output_dim):\n",
    "        super(YoutubeAudioClassifier, self).__init__()\n",
    "        self.time_size = time_size\n",
    "        self.embed_dim = embed_dim\n",
    "        self.embed_dim1, self.embed_dim2 = self.split_embed_dim()\n",
    "        self.fc_dim = fc_dim\n",
    "        self.output_dim = output_dim\n",
    "        \n",
    "        self.intra_init_conv = nn.Sequential(\n",
    "            nn.Conv2d(self.time_size, self.time_size//2, 3, padding=1),    # 10*16*8 -> 5*16*8\n",
    "            nn.BatchNorm2d(self.time_size//2),\n",
    "            nn.ReLU()\n",
    "        )\n",
    "        \n",
    "        self.intra_stride = nn.Sequential(\n",
    "            nn.Conv2d(self.time_size//2, self.time_size//4, 2, stride=2),  # 5*16*8 -> 2*8*4\n",
    "            nn.BatchNorm2d(self.time_size//4),\n",
    "            nn.ReLU()\n",
    "        )\n",
    "        self.intra_dim1_dil = nn.Sequential(\n",
    "            nn.Conv2d(self.time_size//2, self.time_size//2, 3, dilation=(2,1)),  # 5*16*8 -> 5*12*6\n",
    "            nn.BatchNorm2d(self.time_size//2),\n",
    "            nn.ReLU(),\n",
    "            nn.Conv2d(self.time_size//2, self.time_size//4, 3, dilation=(2,1)),  # 5*12*6 -> 2*8*4\n",
    "            nn.BatchNorm2d(self.time_size//4),\n",
    "            nn.ReLU()\n",
    "        )\n",
    "        self.intra_dim2_dil = nn.Sequential(\n",
    "            nn.Conv2d(self.time_size//2, self.time_size//4, (2,3), dilation=(1,2), stride=(2,1)),  # 5*16*8 -> 2*8*4\n",
    "            nn.BatchNorm2d(self.time_size//4),\n",
    "            nn.ReLU()\n",
    "        )\n",
    "        \n",
    "        \n",
    "        self.inter_conv1 = nn.Sequential(\n",
    "            nn.Conv2d(1, 4, (3,5), stride=(1,2)),  # 1*10*128 -> 4*8*62\n",
    "            nn.BatchNorm2d(4),\n",
    "            nn.ReLU(),\n",
    "            nn.Conv2d(4, 8, (3,8), dilation=(1,3)),  # 4*8*62 -> 8*6*41\n",
    "            nn.BatchNorm2d(8),\n",
    "            nn.ReLU()\n",
    "        )\n",
    "        self.inter_max_conv = nn.Sequential(\n",
    "            nn.MaxPool2d((2,6), stride=(2,3), padding=(1,0)),  # 1*10*128 -> 1*6*41\n",
    "            nn.Conv2d(1, 8, 3, padding=1), # 1*6*41 -> 8*6*41\n",
    "            nn.BatchNorm2d(8),\n",
    "            nn.ReLU()\n",
    "        )\n",
    "        \n",
    "        self.inter_conv2 = nn.Sequential(\n",
    "            nn.Conv2d(8, 4, (3,3), stride=(1,2)),  # 8*6*41 -> 4*4*20\n",
    "            nn.BatchNorm2d(4),\n",
    "            nn.ReLU(),\n",
    "            nn.Conv2d(4, 2, (3,5), dilation=(1,3), padding=(1,0)),  # 4*4*20 -> 2*4*8\n",
    "            nn.BatchNorm2d(2),\n",
    "            nn.ReLU()\n",
    "        )\n",
    "        \n",
    "        self.combine_norm = nn.Sequential(\n",
    "            nn.BatchNorm2d(2),\n",
    "            nn.ReLU()\n",
    "        )\n",
    "        \n",
    "        self.fc = nn.Linear(self.fc_dim, self.output_dim)  # 64 -> 527\n",
    "\n",
    "\n",
    "    \n",
    "    # For balanced Width * Height split of input data for intra blocks    \n",
    "    def split_embed_dim(self):\n",
    "        for i in reversed(np.arange(np.ceil(np.sqrt(self.embed_dim))+1)):\n",
    "            if self.embed_dim % i == 0:\n",
    "                return self.embed_dim // int(i) , int(i)\n",
    "                break\n",
    "    \n",
    "    def forward(self, data):\n",
    "        intra_data = data.view(-1, self.time_size, self.embed_dim1, self.embed_dim2)\n",
    "        inter_data = data.view(-1, 1, self.time_size, self.embed_dim)\n",
    "        \n",
    "        intra_block1_out = self.intra_init_conv(intra_data)\n",
    "        intra_block2_out = self.intra_stride(intra_block1_out) + self.intra_dim1_dil(intra_block1_out) + self.intra_dim2_dil(intra_block1_out)\n",
    "        \n",
    "        inter_block1_out = self.inter_conv1(inter_data) + self.inter_max_conv(inter_data)\n",
    "        inter_block2_out = self.inter_conv2(inter_block1_out).transpose(-2,-1)\n",
    "        \n",
    "        cnn_out = self.combine_norm(intra_block2_out + inter_block2_out).view(-1,self.fc_dim)\n",
    "        fc_out = self.fc(cnn_out)\n",
    "        \n",
    "        return F.softmax(fc_out,dim=1)\n",
    "        "
   ]
  },
  {
   "cell_type": "code",
   "execution_count": 118,
   "metadata": {},
   "outputs": [],
   "source": [
    "YAC = YoutubeAudioClassifier(time_size, embed_dim, 64, label_num).to(device)\n",
    "YAC_optimizer = optim.Adam(YAC.parameters(), lr = 0.001)"
   ]
  },
  {
   "cell_type": "code",
   "execution_count": 119,
   "metadata": {},
   "outputs": [],
   "source": [
    "def multilabel_soft_margin_loss(input, target, weight=None, size_average=None, reduce=None,reduction=\"mean\"):    \n",
    "    loss = -(target * F.softplus(input,beta=-1) + (1 - target) * F.softplus(-input,beta=-1))\n",
    "\n",
    "    if weight is not None:\n",
    "        loss = loss * weight\n",
    "\n",
    "    class_dim = input.dim() - 1\n",
    "    C = input.size(class_dim)\n",
    "    loss = loss.sum(dim=class_dim) / C  # only return N loss values\n",
    "\n",
    "    if reduction == \"none\":\n",
    "        ret = loss\n",
    "    elif reduction == \"mean\":\n",
    "        ret = loss.mean()\n",
    "    elif reduction == \"sum\":\n",
    "        ret = loss.sum()\n",
    "    else:\n",
    "        ret = input\n",
    "        raise ValueError(reduction + \" is not valid\")\n",
    "    return ret"
   ]
  },
  {
   "cell_type": "code",
   "execution_count": null,
   "metadata": {},
   "outputs": [],
   "source": [
    "# Training process\n",
    "n_epoch = 100\n",
    "loss_list = []\n",
    "\n",
    "for epoch in tqdm(range(n_epoch)):           \n",
    "    epoch_loss_list = []\n",
    "    for embedding, labels in tqdm(train_loader):\n",
    "        YAC_optimizer.zero_grad()\n",
    "        embedding = embedding.to(device)\n",
    "        loss = multilabel_soft_margin_loss(YAC(embedding), labels.to(device))\n",
    "        loss.backward()\n",
    "        YAC_optimizer.step()\n",
    "        \n",
    "        epoch_loss_list.append(loss.item())\n",
    "    \n",
    "    epoch_mean_loss = np.mean(np.array(epoch_loss_list))    \n",
    "    loss_list.append(epoch_mean_loss)\n",
    "    print(epoch_mean_loss)\n",
    "\n",
    "    if epoch % (n_epoch//10) == 0:\n",
    "        print(f\"Current Loss: {epoch_mean_loss}\")"
   ]
  },
  {
   "cell_type": "code",
   "execution_count": 121,
   "metadata": {},
   "outputs": [
    {
     "data": {
      "text/plain": [
       "0.6935053364908468"
      ]
     },
     "execution_count": 121,
     "metadata": {},
     "output_type": "execute_result"
    }
   ],
   "source": [
    "epoch_mean_loss"
   ]
  }
 ],
 "metadata": {
  "kernelspec": {
   "display_name": "jjh2",
   "language": "python",
   "name": "python3"
  },
  "language_info": {
   "codemirror_mode": {
    "name": "ipython",
    "version": 3
   },
   "file_extension": ".py",
   "mimetype": "text/x-python",
   "name": "python",
   "nbconvert_exporter": "python",
   "pygments_lexer": "ipython3",
   "version": "3.10.11"
  },
  "orig_nbformat": 4
 },
 "nbformat": 4,
 "nbformat_minor": 2
}
