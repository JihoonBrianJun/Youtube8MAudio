{
 "cells": [
  {
   "cell_type": "code",
   "execution_count": 1,
   "metadata": {},
   "outputs": [],
   "source": [
    "import numpy as np\n",
    "import pandas as pd\n",
    "import torch\n",
    "from torch.utils.data import TensorDataset\n",
    "from torch.utils.data import DataLoader\n",
    "from tqdm import tqdm"
   ]
  },
  {
   "cell_type": "code",
   "execution_count": 5,
   "metadata": {},
   "outputs": [],
   "source": [
    "device = torch.device(\"mps\")"
   ]
  },
  {
   "cell_type": "code",
   "execution_count": 122,
   "metadata": {},
   "outputs": [
    {
     "name": "stdout",
     "output_type": "stream",
     "text": [
      "(21782, 4)\n",
      "torch.Size([21782, 10, 128])\n"
     ]
    }
   ],
   "source": [
    "df = pd.read_parquet('bal_train.parquet')\n",
    "df = df[~df.isnull()]\n",
    "df = df[df['audio_embedding'].apply(lambda x: len(x)) == 10]\n",
    "print(df.shape)\n",
    "\n",
    "embeddings = np.vstack(df['audio_embedding'].apply(lambda x: np.vstack(x))).reshape(-1,10,128)\n",
    "embedding_tensor = torch.Tensor(embeddings)\n",
    "print(embedding_tensor.size())"
   ]
  },
  {
   "cell_type": "code",
   "execution_count": 137,
   "metadata": {},
   "outputs": [
    {
     "name": "stdout",
     "output_type": "stream",
     "text": [
      "torch.Size([21782, 527])\n"
     ]
    }
   ],
   "source": [
    "def label_converter(x):\n",
    "    output = np.zeros(527,dtype=int)\n",
    "    for label in x:\n",
    "        output[label] = 1\n",
    "    return output\n",
    "\n",
    "df['label'] = df['labels'].apply(lambda x: label_converter(x))\n",
    "\n",
    "labels = np.vstack(df['label']).reshape(-1,527)\n",
    "label_tensor = torch.Tensor(labels)\n",
    "print(label_tensor.size())"
   ]
  },
  {
   "cell_type": "code",
   "execution_count": 139,
   "metadata": {},
   "outputs": [],
   "source": [
    "train_set = TensorDataset(embedding_tensor, label_tensor)"
   ]
  },
  {
   "cell_type": "code",
   "execution_count": null,
   "metadata": {},
   "outputs": [],
   "source": [
    "bs = 16\n",
    "train_loader = torch.utils.data.DataLoader(dataset=train_set, batch_size=bs, shuffle=True)"
   ]
  }
 ],
 "metadata": {
  "kernelspec": {
   "display_name": "jjh2",
   "language": "python",
   "name": "python3"
  },
  "language_info": {
   "codemirror_mode": {
    "name": "ipython",
    "version": 3
   },
   "file_extension": ".py",
   "mimetype": "text/x-python",
   "name": "python",
   "nbconvert_exporter": "python",
   "pygments_lexer": "ipython3",
   "version": "3.10.11"
  },
  "orig_nbformat": 4
 },
 "nbformat": 4,
 "nbformat_minor": 2
}
